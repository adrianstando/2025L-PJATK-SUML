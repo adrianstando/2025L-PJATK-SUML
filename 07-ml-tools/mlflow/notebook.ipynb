{
 "cells": [
  {
   "cell_type": "markdown",
   "id": "c99fa98d",
   "metadata": {},
   "source": [
    "# MLflow - toy example"
   ]
  },
  {
   "cell_type": "code",
   "execution_count": 1,
   "id": "9ceee79d",
   "metadata": {},
   "outputs": [],
   "source": [
    "import mlflow\n",
    "import mlflow.sklearn\n",
    "from sklearn.linear_model import ElasticNet\n",
    "from sklearn.metrics import mean_squared_error, r2_score\n",
    "import requests\n",
    "from datetime import datetime"
   ]
  },
  {
   "cell_type": "code",
   "execution_count": 2,
   "id": "6c2e8dc4",
   "metadata": {},
   "outputs": [],
   "source": [
    "alpha = 1.0\n",
    "X = [[0, 0], [1, 1], [2, 2]]\n",
    "y = [0, 1, 2]"
   ]
  },
  {
   "cell_type": "code",
   "execution_count": 3,
   "id": "4924bed7",
   "metadata": {},
   "outputs": [
    {
     "name": "stderr",
     "output_type": "stream",
     "text": [
      "2025/06/12 13:24:30 INFO mlflow.tracking.fluent: Experiment with name 'linear_regression_experiment' does not exist. Creating a new experiment.\n"
     ]
    },
    {
     "data": {
      "text/plain": [
       "<Experiment: artifact_location='/home/adrian/projects/2025L-PJATK-SUML/07-ml-tools/mlflow/mlruns/1', creation_time=1749727470732, experiment_id='1', last_update_time=1749727470732, lifecycle_stage='active', name='linear_regression_experiment', tags={}>"
      ]
     },
     "execution_count": 3,
     "metadata": {},
     "output_type": "execute_result"
    }
   ],
   "source": [
    "mlflow.set_tracking_uri(\"http://localhost:5000\")\n",
    "mlflow.set_experiment(\"linear_regression_experiment\")"
   ]
  },
  {
   "cell_type": "code",
   "execution_count": null,
   "id": "2ceb00b0",
   "metadata": {},
   "outputs": [],
   "source": []
  },
  {
   "cell_type": "markdown",
   "id": "e1b1241e",
   "metadata": {},
   "source": [
    "### Train model"
   ]
  },
  {
   "cell_type": "code",
   "execution_count": 4,
   "id": "c7aba57c",
   "metadata": {},
   "outputs": [
    {
     "name": "stderr",
     "output_type": "stream",
     "text": [
      "2025/06/12 13:24:32 WARNING mlflow.models.model: `artifact_path` is deprecated. Please use `name` instead.\n",
      "\u001b[31m2025/06/12 13:24:34 WARNING mlflow.models.model: Model logged without a signature and input example. Please set `input_example` parameter when logging the model to auto infer the model signature.\u001b[0m\n"
     ]
    },
    {
     "name": "stdout",
     "output_type": "stream",
     "text": [
      "🏃 View run luminous-doe-45 at: http://localhost:5000/#/experiments/1/runs/75440d5793c9468ab0dd141bd7ec9220\n",
      "🧪 View experiment at: http://localhost:5000/#/experiments/1\n",
      "Run ID: 75440d5793c9468ab0dd141bd7ec9220\n"
     ]
    }
   ],
   "source": [
    "with mlflow.start_run() as run:\n",
    "    # Log parameters\n",
    "    mlflow.log_param(\"alpha\", alpha)\n",
    "    mlflow.log_param(\"model_type\", \"ElasticNet\")\n",
    "    mlflow.log_param(\"data_source\", \"synthetic_data\")\n",
    "    \n",
    "    # Train model\n",
    "    reg = ElasticNet(alpha=alpha)\n",
    "    reg.fit(X, y)\n",
    "    \n",
    "    # calculate mse and r2 score\n",
    "    y_pred = reg.predict(X)\n",
    "    mse = mean_squared_error(y, y_pred)\n",
    "    r2 = r2_score(y, y_pred)\n",
    "    \n",
    "    # Log metrics\n",
    "    mlflow.log_metric(\"mse\", mse)\n",
    "    mlflow.log_metric(\"r2_score\", r2)\n",
    "    \n",
    "    # Log model\n",
    "    mlflow.sklearn.log_model(reg, \"model\")\n",
    "    \n",
    "    run_id = run.info.run_id\n",
    "\n",
    "print(f\"Run ID: {run_id}\")"
   ]
  },
  {
   "cell_type": "code",
   "execution_count": null,
   "id": "b2aa9cdc",
   "metadata": {},
   "outputs": [],
   "source": []
  },
  {
   "cell_type": "markdown",
   "id": "e00cd4b3",
   "metadata": {},
   "source": [
    "### Register the model"
   ]
  },
  {
   "cell_type": "code",
   "execution_count": 5,
   "id": "baeb4855",
   "metadata": {},
   "outputs": [
    {
     "name": "stderr",
     "output_type": "stream",
     "text": [
      "Successfully registered model 'ElasticNetModel'.\n",
      "2025/06/12 13:24:34 WARNING mlflow.tracking._model_registry.fluent: Run with id 75440d5793c9468ab0dd141bd7ec9220 has no artifacts at artifact path 'model', registering model based on models:/m-4c3319e4ff534f99b425829ad8545e93 instead\n",
      "2025/06/12 13:24:34 INFO mlflow.store.model_registry.abstract_store: Waiting up to 300 seconds for model version to finish creation. Model name: ElasticNetModel, version 1\n",
      "Created version '1' of model 'ElasticNetModel'.\n"
     ]
    },
    {
     "data": {
      "text/plain": [
       "<ModelVersion: aliases=[], creation_timestamp=1749727474914, current_stage='None', deployment_job_state=<ModelVersionDeploymentJobState: current_task_name='', job_id='', job_state='DEPLOYMENT_JOB_CONNECTION_STATE_UNSPECIFIED', run_id='', run_state='DEPLOYMENT_JOB_RUN_STATE_UNSPECIFIED'>, description='', last_updated_timestamp=1749727474914, metrics=None, model_id=None, name='ElasticNetModel', params=None, run_id='75440d5793c9468ab0dd141bd7ec9220', run_link='', source='models:/m-4c3319e4ff534f99b425829ad8545e93', status='READY', status_message=None, tags={}, user_id='', version='1'>"
      ]
     },
     "execution_count": 5,
     "metadata": {},
     "output_type": "execute_result"
    }
   ],
   "source": [
    "mlflow.register_model(\n",
    "    f\"runs:/{run_id}/model\",\n",
    "    \"ElasticNetModel\"\n",
    ")"
   ]
  },
  {
   "cell_type": "code",
   "execution_count": null,
   "id": "74d66ef1",
   "metadata": {},
   "outputs": [],
   "source": []
  },
  {
   "cell_type": "markdown",
   "id": "da6b830e",
   "metadata": {},
   "source": [
    "### Serve the model"
   ]
  },
  {
   "cell_type": "code",
   "execution_count": 6,
   "id": "8f871f7d",
   "metadata": {},
   "outputs": [],
   "source": [
    "# run in bash\n",
    "# MLFLOW_TRACKING_URI=http://localhost:5000 mlflow models serve -m models:/ElasticNetModel/1 --port 1234 --no-conda"
   ]
  },
  {
   "cell_type": "code",
   "execution_count": null,
   "id": "6d631aef",
   "metadata": {},
   "outputs": [],
   "source": []
  },
  {
   "cell_type": "markdown",
   "id": "0e293561",
   "metadata": {},
   "source": [
    "### Call the model via REST API"
   ]
  },
  {
   "cell_type": "code",
   "execution_count": 8,
   "id": "1bf4855d",
   "metadata": {},
   "outputs": [
    {
     "name": "stdout",
     "output_type": "stream",
     "text": [
      "{'predictions': [1.363638242683178, 2.6363720920743003]}\n"
     ]
    }
   ],
   "source": [
    "data = {\n",
    "    \"instances\": [[3, 3], [10, 10]]\n",
    "}\n",
    "res = requests.post(\"http://localhost:1234/invocations\", json=data)\n",
    "print(res.json())"
   ]
  },
  {
   "cell_type": "code",
   "execution_count": null,
   "id": "4ac924d8",
   "metadata": {},
   "outputs": [],
   "source": []
  }
 ],
 "metadata": {
  "language_info": {
   "name": "python"
  }
 },
 "nbformat": 4,
 "nbformat_minor": 5
}
